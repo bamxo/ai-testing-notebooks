{
  "nbformat": 4,
  "nbformat_minor": 0,
  "metadata": {
    "colab": {
      "provenance": []
    },
    "kernelspec": {
      "name": "python3",
      "display_name": "Python 3"
    },
    "language_info": {
      "name": "python"
    }
  },
  "cells": [
    {
      "cell_type": "markdown",
      "source": [
        "# Data Validation and Bias Testing with Python and AI Fairness 360\n",
        "\n",
        "### Purpose:\n",
        "For this exercise, we will explore how to detect and quantify biases in a dataset using Python and visualization tools, We'll also calculate fairness metrics with AI Fairness 360 to identify potentional imbalances.\n",
        "\n",
        "### Tools Used:\n",
        "- Pandas: Python library for data manipulation and analysis\n",
        "- Seaborn/Matplotlib: Libraries used for creating visualizations that help identify patterns and imbalances in data\n",
        "- AI Fairness 360: A toolkit developed by IBM to measure and mitigate bias in AI models, providing fairness metrics and visualizations."
      ],
      "metadata": {
        "id": "rENApGx2iUFG"
      }
    },
    {
      "cell_type": "markdown",
      "source": [
        "## Step 0: Setup\n",
        "### Dataset Overview\n",
        "The German Credit Dataset contains information about loan applicants, including demographic and financial attributes:\n",
        "1. Gender:\n",
        " - `1`: Male\n",
        " - `0`: Female\n",
        "2. Age Group:\n",
        " - `1`: Older (age ≥ 25)\n",
        " - `0`: Younger (age < 25)\n",
        "3. Credit Risk (Target Variable):\n",
        " - `1`: Good Credit Risk\n",
        " - `2`: Bad Credit Risk\n",
        "\n",
        "### Code: Setting Up\n",
        "Below is the code to install required libraries and import them."
      ],
      "metadata": {
        "id": "AxkJyVYnkenT"
      }
    },
    {
      "cell_type": "code",
      "source": [
        "# Install AI Fairness 360\n",
        "!pip install aif360\n",
        "\n",
        "# Download the German Credit Dataset\n",
        "!mkdir -p /usr/local/lib/python3.10/dist-packages/aif360/data/raw/german\n",
        "!wget -q -P /usr/local/lib/python3.10/dist-packages/aif360/data/raw/german https://archive.ics.uci.edu/ml/machine-learning-databases/statlog/german/german.data\n",
        "!wget -q -P /usr/local/lib/python3.10/dist-packages/aif360/data/raw/german https://archive.ics.uci.edu/ml/machine-learning-databases/statlog/german/german.doc\n",
        "\n",
        "# Import required libraries\n",
        "import pandas as pd\n",
        "import matplotlib.pyplot as plt\n",
        "import seaborn as sns\n",
        "from sklearn.impute import SimpleImputer\n",
        "from aif360.datasets import GermanDataset\n",
        "from aif360.metrics import BinaryLabelDatasetMetric, ClassificationMetric\n",
        "from aif360.algorithms.preprocessing import DisparateImpactRemover"
      ],
      "metadata": {
        "colab": {
          "base_uri": "https://localhost:8080/"
        },
        "id": "chlcTynph5Y3",
        "outputId": "6a0d1dbc-f7ea-494b-e4c4-50e32f945336"
      },
      "execution_count": null,
      "outputs": [
        {
          "output_type": "stream",
          "name": "stdout",
          "text": [
            "Collecting aif360\n",
            "  Downloading aif360-0.6.1-py3-none-any.whl.metadata (5.0 kB)\n",
            "Requirement already satisfied: numpy>=1.16 in /usr/local/lib/python3.10/dist-packages (from aif360) (1.26.4)\n",
            "Requirement already satisfied: scipy>=1.2.0 in /usr/local/lib/python3.10/dist-packages (from aif360) (1.13.1)\n",
            "Requirement already satisfied: pandas>=0.24.0 in /usr/local/lib/python3.10/dist-packages (from aif360) (2.2.2)\n",
            "Requirement already satisfied: scikit-learn>=1.0 in /usr/local/lib/python3.10/dist-packages (from aif360) (1.6.0)\n",
            "Requirement already satisfied: matplotlib in /usr/local/lib/python3.10/dist-packages (from aif360) (3.8.0)\n",
            "Requirement already satisfied: python-dateutil>=2.8.2 in /usr/local/lib/python3.10/dist-packages (from pandas>=0.24.0->aif360) (2.8.2)\n",
            "Requirement already satisfied: pytz>=2020.1 in /usr/local/lib/python3.10/dist-packages (from pandas>=0.24.0->aif360) (2024.2)\n",
            "Requirement already satisfied: tzdata>=2022.7 in /usr/local/lib/python3.10/dist-packages (from pandas>=0.24.0->aif360) (2024.2)\n",
            "Requirement already satisfied: joblib>=1.2.0 in /usr/local/lib/python3.10/dist-packages (from scikit-learn>=1.0->aif360) (1.4.2)\n",
            "Requirement already satisfied: threadpoolctl>=3.1.0 in /usr/local/lib/python3.10/dist-packages (from scikit-learn>=1.0->aif360) (3.5.0)\n",
            "Requirement already satisfied: contourpy>=1.0.1 in /usr/local/lib/python3.10/dist-packages (from matplotlib->aif360) (1.3.1)\n",
            "Requirement already satisfied: cycler>=0.10 in /usr/local/lib/python3.10/dist-packages (from matplotlib->aif360) (0.12.1)\n",
            "Requirement already satisfied: fonttools>=4.22.0 in /usr/local/lib/python3.10/dist-packages (from matplotlib->aif360) (4.55.3)\n",
            "Requirement already satisfied: kiwisolver>=1.0.1 in /usr/local/lib/python3.10/dist-packages (from matplotlib->aif360) (1.4.7)\n",
            "Requirement already satisfied: packaging>=20.0 in /usr/local/lib/python3.10/dist-packages (from matplotlib->aif360) (24.2)\n",
            "Requirement already satisfied: pillow>=6.2.0 in /usr/local/lib/python3.10/dist-packages (from matplotlib->aif360) (11.0.0)\n",
            "Requirement already satisfied: pyparsing>=2.3.1 in /usr/local/lib/python3.10/dist-packages (from matplotlib->aif360) (3.2.0)\n",
            "Requirement already satisfied: six>=1.5 in /usr/local/lib/python3.10/dist-packages (from python-dateutil>=2.8.2->pandas>=0.24.0->aif360) (1.17.0)\n",
            "Downloading aif360-0.6.1-py3-none-any.whl (259 kB)\n",
            "\u001b[2K   \u001b[90m━━━━━━━━━━━━━━━━━━━━━━━━━━━━━━━━━━━━━━━━\u001b[0m \u001b[32m259.7/259.7 kB\u001b[0m \u001b[31m4.7 MB/s\u001b[0m eta \u001b[36m0:00:00\u001b[0m\n",
            "\u001b[?25hInstalling collected packages: aif360\n",
            "Successfully installed aif360-0.6.1\n"
          ]
        },
        {
          "output_type": "stream",
          "name": "stderr",
          "text": [
            "WARNING:root:No module named 'fairlearn': ExponentiatedGradientReduction will be unavailable. To install, run:\n",
            "pip install 'aif360[Reductions]'\n",
            "WARNING:root:No module named 'fairlearn': GridSearchReduction will be unavailable. To install, run:\n",
            "pip install 'aif360[Reductions]'\n",
            "WARNING:root:No module named 'inFairness': SenSeI and SenSR will be unavailable. To install, run:\n",
            "pip install 'aif360[inFairness]'\n",
            "WARNING:root:No module named 'fairlearn': GridSearchReduction will be unavailable. To install, run:\n",
            "pip install 'aif360[Reductions]'\n"
          ]
        }
      ]
    },
    {
      "cell_type": "markdown",
      "source": [
        "## Step 1: Loading and Previewing the Dataset\n",
        "Let's load the dataset and take a quick look at the data to understand its structure and contents. Below is the python code to load the dataset from a public source and preview its contents."
      ],
      "metadata": {
        "id": "pJ_RjL1HnSlG"
      }
    },
    {
      "cell_type": "code",
      "source": [
        "# Load the dataset\n",
        "dataset = GermanDataset()\n",
        "df = pd.DataFrame(dataset.features, columns=dataset.feature_names)\n",
        "df['credit_risk'] = dataset.labels\n",
        "\n",
        "# Display the first few rows of the dataset\n",
        "df.head()"
      ],
      "metadata": {
        "colab": {
          "base_uri": "https://localhost:8080/",
          "height": 256
        },
        "id": "oqzpVAqrnHvK",
        "outputId": "d80cb15e-bfd8-4754-a599-2e94853b56a2"
      },
      "execution_count": null,
      "outputs": [
        {
          "output_type": "execute_result",
          "data": {
            "text/plain": [
              "   month  credit_amount  investment_as_income_percentage  residence_since  \\\n",
              "0    6.0         1169.0                              4.0              4.0   \n",
              "1   48.0         5951.0                              2.0              2.0   \n",
              "2   12.0         2096.0                              2.0              3.0   \n",
              "3   42.0         7882.0                              2.0              4.0   \n",
              "4   24.0         4870.0                              3.0              4.0   \n",
              "\n",
              "   age  number_of_credits  people_liable_for  sex  status=A11  status=A12  \\\n",
              "0  1.0                2.0                1.0  1.0         1.0         0.0   \n",
              "1  0.0                1.0                1.0  0.0         0.0         1.0   \n",
              "2  1.0                1.0                2.0  1.0         0.0         0.0   \n",
              "3  1.0                1.0                2.0  1.0         1.0         0.0   \n",
              "4  1.0                2.0                2.0  1.0         1.0         0.0   \n",
              "\n",
              "   ...  housing=A153  skill_level=A171  skill_level=A172  skill_level=A173  \\\n",
              "0  ...           0.0               0.0               0.0               1.0   \n",
              "1  ...           0.0               0.0               0.0               1.0   \n",
              "2  ...           0.0               0.0               1.0               0.0   \n",
              "3  ...           1.0               0.0               0.0               1.0   \n",
              "4  ...           1.0               0.0               0.0               1.0   \n",
              "\n",
              "   skill_level=A174  telephone=A191  telephone=A192  foreign_worker=A201  \\\n",
              "0               0.0             0.0             1.0                  1.0   \n",
              "1               0.0             1.0             0.0                  1.0   \n",
              "2               0.0             1.0             0.0                  1.0   \n",
              "3               0.0             1.0             0.0                  1.0   \n",
              "4               0.0             1.0             0.0                  1.0   \n",
              "\n",
              "   foreign_worker=A202  credit_risk  \n",
              "0                  0.0          1.0  \n",
              "1                  0.0          2.0  \n",
              "2                  0.0          1.0  \n",
              "3                  0.0          1.0  \n",
              "4                  0.0          2.0  \n",
              "\n",
              "[5 rows x 59 columns]"
            ],
            "text/html": [
              "\n",
              "  <div id=\"df-8d6c2fc0-9716-4b6e-8a19-7c3a4b880339\" class=\"colab-df-container\">\n",
              "    <div>\n",
              "<style scoped>\n",
              "    .dataframe tbody tr th:only-of-type {\n",
              "        vertical-align: middle;\n",
              "    }\n",
              "\n",
              "    .dataframe tbody tr th {\n",
              "        vertical-align: top;\n",
              "    }\n",
              "\n",
              "    .dataframe thead th {\n",
              "        text-align: right;\n",
              "    }\n",
              "</style>\n",
              "<table border=\"1\" class=\"dataframe\">\n",
              "  <thead>\n",
              "    <tr style=\"text-align: right;\">\n",
              "      <th></th>\n",
              "      <th>month</th>\n",
              "      <th>credit_amount</th>\n",
              "      <th>investment_as_income_percentage</th>\n",
              "      <th>residence_since</th>\n",
              "      <th>age</th>\n",
              "      <th>number_of_credits</th>\n",
              "      <th>people_liable_for</th>\n",
              "      <th>sex</th>\n",
              "      <th>status=A11</th>\n",
              "      <th>status=A12</th>\n",
              "      <th>...</th>\n",
              "      <th>housing=A153</th>\n",
              "      <th>skill_level=A171</th>\n",
              "      <th>skill_level=A172</th>\n",
              "      <th>skill_level=A173</th>\n",
              "      <th>skill_level=A174</th>\n",
              "      <th>telephone=A191</th>\n",
              "      <th>telephone=A192</th>\n",
              "      <th>foreign_worker=A201</th>\n",
              "      <th>foreign_worker=A202</th>\n",
              "      <th>credit_risk</th>\n",
              "    </tr>\n",
              "  </thead>\n",
              "  <tbody>\n",
              "    <tr>\n",
              "      <th>0</th>\n",
              "      <td>6.0</td>\n",
              "      <td>1169.0</td>\n",
              "      <td>4.0</td>\n",
              "      <td>4.0</td>\n",
              "      <td>1.0</td>\n",
              "      <td>2.0</td>\n",
              "      <td>1.0</td>\n",
              "      <td>1.0</td>\n",
              "      <td>1.0</td>\n",
              "      <td>0.0</td>\n",
              "      <td>...</td>\n",
              "      <td>0.0</td>\n",
              "      <td>0.0</td>\n",
              "      <td>0.0</td>\n",
              "      <td>1.0</td>\n",
              "      <td>0.0</td>\n",
              "      <td>0.0</td>\n",
              "      <td>1.0</td>\n",
              "      <td>1.0</td>\n",
              "      <td>0.0</td>\n",
              "      <td>1.0</td>\n",
              "    </tr>\n",
              "    <tr>\n",
              "      <th>1</th>\n",
              "      <td>48.0</td>\n",
              "      <td>5951.0</td>\n",
              "      <td>2.0</td>\n",
              "      <td>2.0</td>\n",
              "      <td>0.0</td>\n",
              "      <td>1.0</td>\n",
              "      <td>1.0</td>\n",
              "      <td>0.0</td>\n",
              "      <td>0.0</td>\n",
              "      <td>1.0</td>\n",
              "      <td>...</td>\n",
              "      <td>0.0</td>\n",
              "      <td>0.0</td>\n",
              "      <td>0.0</td>\n",
              "      <td>1.0</td>\n",
              "      <td>0.0</td>\n",
              "      <td>1.0</td>\n",
              "      <td>0.0</td>\n",
              "      <td>1.0</td>\n",
              "      <td>0.0</td>\n",
              "      <td>2.0</td>\n",
              "    </tr>\n",
              "    <tr>\n",
              "      <th>2</th>\n",
              "      <td>12.0</td>\n",
              "      <td>2096.0</td>\n",
              "      <td>2.0</td>\n",
              "      <td>3.0</td>\n",
              "      <td>1.0</td>\n",
              "      <td>1.0</td>\n",
              "      <td>2.0</td>\n",
              "      <td>1.0</td>\n",
              "      <td>0.0</td>\n",
              "      <td>0.0</td>\n",
              "      <td>...</td>\n",
              "      <td>0.0</td>\n",
              "      <td>0.0</td>\n",
              "      <td>1.0</td>\n",
              "      <td>0.0</td>\n",
              "      <td>0.0</td>\n",
              "      <td>1.0</td>\n",
              "      <td>0.0</td>\n",
              "      <td>1.0</td>\n",
              "      <td>0.0</td>\n",
              "      <td>1.0</td>\n",
              "    </tr>\n",
              "    <tr>\n",
              "      <th>3</th>\n",
              "      <td>42.0</td>\n",
              "      <td>7882.0</td>\n",
              "      <td>2.0</td>\n",
              "      <td>4.0</td>\n",
              "      <td>1.0</td>\n",
              "      <td>1.0</td>\n",
              "      <td>2.0</td>\n",
              "      <td>1.0</td>\n",
              "      <td>1.0</td>\n",
              "      <td>0.0</td>\n",
              "      <td>...</td>\n",
              "      <td>1.0</td>\n",
              "      <td>0.0</td>\n",
              "      <td>0.0</td>\n",
              "      <td>1.0</td>\n",
              "      <td>0.0</td>\n",
              "      <td>1.0</td>\n",
              "      <td>0.0</td>\n",
              "      <td>1.0</td>\n",
              "      <td>0.0</td>\n",
              "      <td>1.0</td>\n",
              "    </tr>\n",
              "    <tr>\n",
              "      <th>4</th>\n",
              "      <td>24.0</td>\n",
              "      <td>4870.0</td>\n",
              "      <td>3.0</td>\n",
              "      <td>4.0</td>\n",
              "      <td>1.0</td>\n",
              "      <td>2.0</td>\n",
              "      <td>2.0</td>\n",
              "      <td>1.0</td>\n",
              "      <td>1.0</td>\n",
              "      <td>0.0</td>\n",
              "      <td>...</td>\n",
              "      <td>1.0</td>\n",
              "      <td>0.0</td>\n",
              "      <td>0.0</td>\n",
              "      <td>1.0</td>\n",
              "      <td>0.0</td>\n",
              "      <td>1.0</td>\n",
              "      <td>0.0</td>\n",
              "      <td>1.0</td>\n",
              "      <td>0.0</td>\n",
              "      <td>2.0</td>\n",
              "    </tr>\n",
              "  </tbody>\n",
              "</table>\n",
              "<p>5 rows × 59 columns</p>\n",
              "</div>\n",
              "    <div class=\"colab-df-buttons\">\n",
              "\n",
              "  <div class=\"colab-df-container\">\n",
              "    <button class=\"colab-df-convert\" onclick=\"convertToInteractive('df-8d6c2fc0-9716-4b6e-8a19-7c3a4b880339')\"\n",
              "            title=\"Convert this dataframe to an interactive table.\"\n",
              "            style=\"display:none;\">\n",
              "\n",
              "  <svg xmlns=\"http://www.w3.org/2000/svg\" height=\"24px\" viewBox=\"0 -960 960 960\">\n",
              "    <path d=\"M120-120v-720h720v720H120Zm60-500h600v-160H180v160Zm220 220h160v-160H400v160Zm0 220h160v-160H400v160ZM180-400h160v-160H180v160Zm440 0h160v-160H620v160ZM180-180h160v-160H180v160Zm440 0h160v-160H620v160Z\"/>\n",
              "  </svg>\n",
              "    </button>\n",
              "\n",
              "  <style>\n",
              "    .colab-df-container {\n",
              "      display:flex;\n",
              "      gap: 12px;\n",
              "    }\n",
              "\n",
              "    .colab-df-convert {\n",
              "      background-color: #E8F0FE;\n",
              "      border: none;\n",
              "      border-radius: 50%;\n",
              "      cursor: pointer;\n",
              "      display: none;\n",
              "      fill: #1967D2;\n",
              "      height: 32px;\n",
              "      padding: 0 0 0 0;\n",
              "      width: 32px;\n",
              "    }\n",
              "\n",
              "    .colab-df-convert:hover {\n",
              "      background-color: #E2EBFA;\n",
              "      box-shadow: 0px 1px 2px rgba(60, 64, 67, 0.3), 0px 1px 3px 1px rgba(60, 64, 67, 0.15);\n",
              "      fill: #174EA6;\n",
              "    }\n",
              "\n",
              "    .colab-df-buttons div {\n",
              "      margin-bottom: 4px;\n",
              "    }\n",
              "\n",
              "    [theme=dark] .colab-df-convert {\n",
              "      background-color: #3B4455;\n",
              "      fill: #D2E3FC;\n",
              "    }\n",
              "\n",
              "    [theme=dark] .colab-df-convert:hover {\n",
              "      background-color: #434B5C;\n",
              "      box-shadow: 0px 1px 3px 1px rgba(0, 0, 0, 0.15);\n",
              "      filter: drop-shadow(0px 1px 2px rgba(0, 0, 0, 0.3));\n",
              "      fill: #FFFFFF;\n",
              "    }\n",
              "  </style>\n",
              "\n",
              "    <script>\n",
              "      const buttonEl =\n",
              "        document.querySelector('#df-8d6c2fc0-9716-4b6e-8a19-7c3a4b880339 button.colab-df-convert');\n",
              "      buttonEl.style.display =\n",
              "        google.colab.kernel.accessAllowed ? 'block' : 'none';\n",
              "\n",
              "      async function convertToInteractive(key) {\n",
              "        const element = document.querySelector('#df-8d6c2fc0-9716-4b6e-8a19-7c3a4b880339');\n",
              "        const dataTable =\n",
              "          await google.colab.kernel.invokeFunction('convertToInteractive',\n",
              "                                                    [key], {});\n",
              "        if (!dataTable) return;\n",
              "\n",
              "        const docLinkHtml = 'Like what you see? Visit the ' +\n",
              "          '<a target=\"_blank\" href=https://colab.research.google.com/notebooks/data_table.ipynb>data table notebook</a>'\n",
              "          + ' to learn more about interactive tables.';\n",
              "        element.innerHTML = '';\n",
              "        dataTable['output_type'] = 'display_data';\n",
              "        await google.colab.output.renderOutput(dataTable, element);\n",
              "        const docLink = document.createElement('div');\n",
              "        docLink.innerHTML = docLinkHtml;\n",
              "        element.appendChild(docLink);\n",
              "      }\n",
              "    </script>\n",
              "  </div>\n",
              "\n",
              "\n",
              "<div id=\"df-ca716ab1-3f8a-4ec8-8166-337c787c4f9a\">\n",
              "  <button class=\"colab-df-quickchart\" onclick=\"quickchart('df-ca716ab1-3f8a-4ec8-8166-337c787c4f9a')\"\n",
              "            title=\"Suggest charts\"\n",
              "            style=\"display:none;\">\n",
              "\n",
              "<svg xmlns=\"http://www.w3.org/2000/svg\" height=\"24px\"viewBox=\"0 0 24 24\"\n",
              "     width=\"24px\">\n",
              "    <g>\n",
              "        <path d=\"M19 3H5c-1.1 0-2 .9-2 2v14c0 1.1.9 2 2 2h14c1.1 0 2-.9 2-2V5c0-1.1-.9-2-2-2zM9 17H7v-7h2v7zm4 0h-2V7h2v10zm4 0h-2v-4h2v4z\"/>\n",
              "    </g>\n",
              "</svg>\n",
              "  </button>\n",
              "\n",
              "<style>\n",
              "  .colab-df-quickchart {\n",
              "      --bg-color: #E8F0FE;\n",
              "      --fill-color: #1967D2;\n",
              "      --hover-bg-color: #E2EBFA;\n",
              "      --hover-fill-color: #174EA6;\n",
              "      --disabled-fill-color: #AAA;\n",
              "      --disabled-bg-color: #DDD;\n",
              "  }\n",
              "\n",
              "  [theme=dark] .colab-df-quickchart {\n",
              "      --bg-color: #3B4455;\n",
              "      --fill-color: #D2E3FC;\n",
              "      --hover-bg-color: #434B5C;\n",
              "      --hover-fill-color: #FFFFFF;\n",
              "      --disabled-bg-color: #3B4455;\n",
              "      --disabled-fill-color: #666;\n",
              "  }\n",
              "\n",
              "  .colab-df-quickchart {\n",
              "    background-color: var(--bg-color);\n",
              "    border: none;\n",
              "    border-radius: 50%;\n",
              "    cursor: pointer;\n",
              "    display: none;\n",
              "    fill: var(--fill-color);\n",
              "    height: 32px;\n",
              "    padding: 0;\n",
              "    width: 32px;\n",
              "  }\n",
              "\n",
              "  .colab-df-quickchart:hover {\n",
              "    background-color: var(--hover-bg-color);\n",
              "    box-shadow: 0 1px 2px rgba(60, 64, 67, 0.3), 0 1px 3px 1px rgba(60, 64, 67, 0.15);\n",
              "    fill: var(--button-hover-fill-color);\n",
              "  }\n",
              "\n",
              "  .colab-df-quickchart-complete:disabled,\n",
              "  .colab-df-quickchart-complete:disabled:hover {\n",
              "    background-color: var(--disabled-bg-color);\n",
              "    fill: var(--disabled-fill-color);\n",
              "    box-shadow: none;\n",
              "  }\n",
              "\n",
              "  .colab-df-spinner {\n",
              "    border: 2px solid var(--fill-color);\n",
              "    border-color: transparent;\n",
              "    border-bottom-color: var(--fill-color);\n",
              "    animation:\n",
              "      spin 1s steps(1) infinite;\n",
              "  }\n",
              "\n",
              "  @keyframes spin {\n",
              "    0% {\n",
              "      border-color: transparent;\n",
              "      border-bottom-color: var(--fill-color);\n",
              "      border-left-color: var(--fill-color);\n",
              "    }\n",
              "    20% {\n",
              "      border-color: transparent;\n",
              "      border-left-color: var(--fill-color);\n",
              "      border-top-color: var(--fill-color);\n",
              "    }\n",
              "    30% {\n",
              "      border-color: transparent;\n",
              "      border-left-color: var(--fill-color);\n",
              "      border-top-color: var(--fill-color);\n",
              "      border-right-color: var(--fill-color);\n",
              "    }\n",
              "    40% {\n",
              "      border-color: transparent;\n",
              "      border-right-color: var(--fill-color);\n",
              "      border-top-color: var(--fill-color);\n",
              "    }\n",
              "    60% {\n",
              "      border-color: transparent;\n",
              "      border-right-color: var(--fill-color);\n",
              "    }\n",
              "    80% {\n",
              "      border-color: transparent;\n",
              "      border-right-color: var(--fill-color);\n",
              "      border-bottom-color: var(--fill-color);\n",
              "    }\n",
              "    90% {\n",
              "      border-color: transparent;\n",
              "      border-bottom-color: var(--fill-color);\n",
              "    }\n",
              "  }\n",
              "</style>\n",
              "\n",
              "  <script>\n",
              "    async function quickchart(key) {\n",
              "      const quickchartButtonEl =\n",
              "        document.querySelector('#' + key + ' button');\n",
              "      quickchartButtonEl.disabled = true;  // To prevent multiple clicks.\n",
              "      quickchartButtonEl.classList.add('colab-df-spinner');\n",
              "      try {\n",
              "        const charts = await google.colab.kernel.invokeFunction(\n",
              "            'suggestCharts', [key], {});\n",
              "      } catch (error) {\n",
              "        console.error('Error during call to suggestCharts:', error);\n",
              "      }\n",
              "      quickchartButtonEl.classList.remove('colab-df-spinner');\n",
              "      quickchartButtonEl.classList.add('colab-df-quickchart-complete');\n",
              "    }\n",
              "    (() => {\n",
              "      let quickchartButtonEl =\n",
              "        document.querySelector('#df-ca716ab1-3f8a-4ec8-8166-337c787c4f9a button');\n",
              "      quickchartButtonEl.style.display =\n",
              "        google.colab.kernel.accessAllowed ? 'block' : 'none';\n",
              "    })();\n",
              "  </script>\n",
              "</div>\n",
              "\n",
              "    </div>\n",
              "  </div>\n"
            ],
            "application/vnd.google.colaboratory.intrinsic+json": {
              "type": "dataframe",
              "variable_name": "df"
            }
          },
          "metadata": {},
          "execution_count": 3
        }
      ]
    },
    {
      "cell_type": "markdown",
      "source": [
        "### Dataset Description\n",
        "The dataset contains the following columns:\n",
        "1. **age**: The age of the individual in years\n",
        "2. **sex**: Gender of the applicant\n",
        "3. **credit_amount**: Amount of credit requested\n",
        "4. **residence_since**: Duration of residence in years\n",
        "5. **people_liable_for**: Number of people the applicant is liable for\n",
        "6. **credit_risk**: Target variable indicating creditworthiness\n",
        "\n",
        "We will focus on sex and age for analyzing potential biases"
      ],
      "metadata": {
        "id": "yKxWgMzKoagV"
      }
    },
    {
      "cell_type": "markdown",
      "source": [
        "## Step 2: Analyzing Sensitive Attributes\n",
        "\n",
        "Now, let's explore the senstive attributes like **sex** and **age**. We'll analyze their distributions to identify any imbalances that may exist in the dataset. Imbalances in sensitive attributes can lead to biased outcomes when training AI models, making it crucial to detect and address these issues early in the development process. The following code calculates and displays the distribution of valeues for the `sex` and `age` attributes."
      ],
      "metadata": {
        "id": "pb56Xjugqmw_"
      }
    },
    {
      "cell_type": "code",
      "source": [
        "print(\"Gender Distribution:\")\n",
        "print(df['sex'].replace({1: 'Male', 0: 'Female'}).value_counts())\n",
        "\n",
        "print(\"\\nAge Distribution:\")\n",
        "print(df['age'].replace({1: 'Older', 0: 'Younger'}).value_counts())"
      ],
      "metadata": {
        "colab": {
          "base_uri": "https://localhost:8080/"
        },
        "id": "2mu54W1AoIrv",
        "outputId": "58194be1-d36c-4b20-f99e-bf1362440559"
      },
      "execution_count": null,
      "outputs": [
        {
          "output_type": "stream",
          "name": "stdout",
          "text": [
            "Gender Distribution:\n",
            "sex\n",
            "Male      690\n",
            "Female    310\n",
            "Name: count, dtype: int64\n",
            "\n",
            "Race Distribution:\n",
            "age\n",
            "Older      810\n",
            "Younger    190\n",
            "Name: count, dtype: int64\n"
          ]
        }
      ]
    },
    {
      "cell_type": "markdown",
      "source": [
        "### Task\n",
        "1. Observe the output of the distributions for `sex` and `age`.\n",
        "2. Answer the following questions:\n",
        "- Does one gender dominate the dataset? If so, how might this affect this affect predictions?\n",
        "- Are there age groups with very few records compared to others? What challenges might this pose for model's fairness?"
      ],
      "metadata": {
        "id": "qCZSYyegjhjv"
      }
    },
    {
      "cell_type": "markdown",
      "source": [
        "## Step 3: Visualizing Distributions\n",
        "Next, we'll use Seaborn to create count plots that illustrate how income distribution varies across gender and age"
      ],
      "metadata": {
        "id": "ypv9UvYPkgAJ"
      }
    },
    {
      "cell_type": "code",
      "source": [
        "# Visualizing income distribution by gender\n",
        "sns.countplot(data=df.replace({'sex': {1: 'Male', 0: 'Female'}, 'credit_risk': {1: 'Good', 2: 'Bad'}}), x='sex', hue='credit_risk')\n",
        "plt.title(\"Credit Risk Distribution by Gender\")\n",
        "plt.xlabel(\"Gender\")\n",
        "plt.ylabel(\"Count\")\n",
        "plt.show()\n",
        "\n",
        "# Visualizing income distribution by age\n",
        "sns.countplot(data=df.replace({'age': {1: 'Older', 0: 'Younger'}, 'credit_risk': {1: 'Good', 2: 'Bad'}}), x='age', hue='credit_risk')\n",
        "plt.title(\"Credit Risk Distribution by Age Group\")\n",
        "plt.xlabel(\"Age Group\")\n",
        "plt.ylabel(\"Count\")\n",
        "plt.show()"
      ],
      "metadata": {
        "id": "USx0-I5FroW0",
        "colab": {
          "base_uri": "https://localhost:8080/",
          "height": 927
        },
        "outputId": "ec41853f-d64a-412d-f24c-8ba0e498394e"
      },
      "execution_count": null,
      "outputs": [
        {
          "output_type": "display_data",
          "data": {
            "text/plain": [
              "<Figure size 640x480 with 1 Axes>"
            ],
            "image/png": "[encoded data removed]"
          },
          "metadata": {}
        },
        {
          "output_type": "display_data",
          "data": {
            "text/plain": [
              "<Figure size 640x480 with 1 Axes>"
            ],
            "image/png": "[encoded data removed]"
          },
          "metadata": {}
        }
      ]
    },
    {
      "cell_type": "markdown",
      "source": [
        "### Task\n",
        "1. Are there noticable differences in credit risk distribution between genders or age groups?\n",
        "2. What implications could these differences have for fairness in AI Models?\n"
      ],
      "metadata": {
        "id": "EbOKHqYHDCcE"
      }
    },
    {
      "cell_type": "markdown",
      "source": [
        "## Explanation of Fairness Metrics\n",
        "\n",
        "### 1. Disparate Impact\n",
        "- **What is measures**: The ratio of favorable outcomes between unprivileged and privileged groups.\n",
        "- **How to interpret it**:\n",
        " - A value close to 1: Outcomes are evenly distributed (little to no bias)\n",
        " - A value below 0.8: Indicates potential bias against the unprivileged group\n",
        "\n",
        "### 2. Statistical Parity Difference\n",
        "- **What it measures**: The difference in favorable outcomes between unprivileged and privileged groups\n",
        "- **How to interpret it**:\n",
        " - A value close to 0: Outcomess are similar (little to no bias)\n",
        " - Positive values: Indicates the privileged group has a higher chance of receiving the positive outcome than the unprivilged group\n",
        " - Negative values: Indicates the unprivileged group has a higher chance of receiving the positive outcome than the privilged group"
      ],
      "metadata": {
        "id": "CJAQaErE9du-"
      }
    },
    {
      "cell_type": "markdown",
      "source": [
        "## Step 3: Using AI Fairness 360 for Fairness Metrics\n",
        "Next, we'll calculate fairness metrics like **Disparate Impact** and **Statistical Parity Difference** using the AI Fairness 360 library. These metrics help us quantify the fairness of our dataset by comparing outcomes between privileged and unprivileged groups."
      ],
      "metadata": {
        "id": "joYdwPUZKwkK"
      }
    },
    {
      "cell_type": "code",
      "source": [
        "# Convert the dataset for AI Fairness 360\n",
        "privileged_groups = [{'sex': 1}]\n",
        "unprivileged_groups = [{'sex': 0}]\n",
        "\n",
        "binary_dataset = dataset\n",
        "\n",
        "# Calculate fairness metrics\n",
        "metric = BinaryLabelDatasetMetric(\n",
        "    binary_dataset,\n",
        "    privileged_groups=privileged_groups,\n",
        "    unprivileged_groups=unprivileged_groups\n",
        ")\n",
        "\n",
        "print(\"Disparate Impact:\", metric.disparate_impact())\n",
        "print(\"Statistical Parity Difference:\", metric.statistical_parity_difference())"
      ],
      "metadata": {
        "colab": {
          "base_uri": "https://localhost:8080/"
        },
        "id": "VvFR4glHDBPs",
        "outputId": "d12f8b6d-8cf5-406b-f0f1-892599fd876b"
      },
      "execution_count": null,
      "outputs": [
        {
          "output_type": "stream",
          "name": "stdout",
          "text": [
            "Disparate Impact: 0.8965673282047968\n",
            "Statistical Parity Difference: -0.07480130902290782\n"
          ]
        }
      ]
    },
    {
      "cell_type": "markdown",
      "source": [
        "## Task\n",
        "1. What can you infer about the fairness of the dataset based on the **Disparate Impact** and **Statistical Parity Difference** values?"
      ],
      "metadata": {
        "id": "jz7DLki6BJaz"
      }
    },
    {
      "cell_type": "code",
      "source": [
        "metrics = {\n",
        "    'Disparate Impact': metric.disparate_impact(),\n",
        "    'Statistical Parity Difference': metric.statistical_parity_difference()\n",
        "}\n",
        "\n",
        "plt.bar(metrics.keys(), metrics.values())\n",
        "plt.title('Fairness Metrics')\n",
        "plt.ylabel('Value')\n",
        "plt.show()"
      ],
      "metadata": {
        "id": "W1S-ROwAdVse",
        "colab": {
          "base_uri": "https://localhost:8080/",
          "height": 452
        },
        "outputId": "c5b50ffa-0749-4ce3-9050-7dd7bf0584c4"
      },
      "execution_count": null,
      "outputs": [
        {
          "output_type": "display_data",
          "data": {
            "text/plain": [
              "<Figure size 640x480 with 1 Axes>"
            ],
            "image/png": "[encoded data removed]"
          },
          "metadata": {}
        }
      ]
    },
    {
      "cell_type": "code",
      "source": [],
      "metadata": {
        "id": "CVQrJhqmxlyc"
      },
      "execution_count": null,
      "outputs": []
    }
  ]
}