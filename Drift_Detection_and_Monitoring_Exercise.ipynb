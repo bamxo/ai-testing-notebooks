{
  "nbformat": 4,
  "nbformat_minor": 0,
  "metadata": {
    "colab": {
      "provenance": []
    },
    "kernelspec": {
      "name": "python3",
      "display_name": "Python 3"
    },
    "language_info": {
      "name": "python"
    }
  },
  "cells": [
    {
      "cell_type": "markdown",
      "source": [
        "# Drift Monitoring and Detection\n",
        "\n",
        "### Purpose:\n",
        "In this exercise, you will learn how to detect concept drift in data over time and understand how it impacts model predictions. Concept drift occurs when the statistical properties of data change between when the model was trained and when it is used, leading to reduced accuracy and performance\n",
        "\n",
        "### Objective:\n",
        "By the end of this exercise you wull be able to:\n",
        "1. Split a dataset to simulate training and new data.\n",
        "2. Detect and visualize drift using Evidently AI.\n",
        "3. Quantify drift using Scikit-learn's statistical tests.\n",
        "\n",
        "### Tools Used:\n",
        "- Python: For data manipulation and analysis\n",
        "- Scikit-learn to calculate drift metrics.\n",
        "- Evidently AI: To detect and visualize data drift with its powerful dashboard and reports"
      ],
      "metadata": {
        "id": "HBee67_qLmrW"
      }
    },
    {
      "cell_type": "markdown",
      "source": [
        "## Step 0: Setup\n",
        "**Task**: Install and import the required libraries."
      ],
      "metadata": {
        "id": "Rn3vAk2aULFx"
      }
    },
    {
      "cell_type": "code",
      "source": [
        "# Install Evidently AI\n",
        "!pip install evidently\n",
        "\n",
        "# Import required libraries\n",
        "import pandas as pd\n",
        "import numpy as np\n",
        "from sklearn.model_selection import train_test_split\n",
        "from sklearn.datasets import fetch_openml\n",
        "from evidently import ColumnMapping\n",
        "from evidently.report import Report\n",
        "from evidently.metric_preset import DataDriftPreset\n",
        "from scipy.stats import ks_2samp"
      ],
      "metadata": {
        "id": "B2gD30gcLmz0",
        "outputId": "5877e083-049a-46d1-b057-628e7ce820c9",
        "colab": {
          "base_uri": "https://localhost:8080/"
        }
      },
      "execution_count": null,
      "outputs": [
        {
          "output_type": "stream",
          "name": "stdout",
          "text": [
            "Requirement already satisfied: evidently in /usr/local/lib/python3.11/dist-packages (0.6.3)\n",
            "Requirement already satisfied: plotly<6,>=5.10.0 in /usr/local/lib/python3.11/dist-packages (from evidently) (5.24.1)\n",
            "Requirement already satisfied: statsmodels>=0.12.2 in /usr/local/lib/python3.11/dist-packages (from evidently) (0.14.4)\n",
            "Requirement already satisfied: scikit-learn>=1.0.1 in /usr/local/lib/python3.11/dist-packages (from evidently) (1.6.1)\n",
            "Requirement already satisfied: pandas>=1.3.5 in /usr/local/lib/python3.11/dist-packages (from pandas[parquet]>=1.3.5->evidently) (2.2.2)\n",
            "Requirement already satisfied: numpy<2.1,>=1.22.0 in /usr/local/lib/python3.11/dist-packages (from evidently) (1.26.4)\n",
            "Requirement already satisfied: nltk>=3.6.7 in /usr/local/lib/python3.11/dist-packages (from evidently) (3.9.1)\n",
            "Requirement already satisfied: scipy>=1.10.0 in /usr/local/lib/python3.11/dist-packages (from evidently) (1.13.1)\n",
            "Requirement already satisfied: requests>=2.32.0 in /usr/local/lib/python3.11/dist-packages (from evidently) (2.32.3)\n",
            "Requirement already satisfied: PyYAML>=5.4 in /usr/local/lib/python3.11/dist-packages (from evidently) (6.0.2)\n",
            "Requirement already satisfied: pydantic>=1.10.13 in /usr/local/lib/python3.11/dist-packages (from evidently) (2.10.6)\n",
            "Requirement already satisfied: litestar>=2.8.3 in /usr/local/lib/python3.11/dist-packages (from evidently) (2.14.0)\n",
            "Requirement already satisfied: typing-inspect>=0.9.0 in /usr/local/lib/python3.11/dist-packages (from evidently) (0.9.0)\n",
            "Requirement already satisfied: uvicorn>=0.22.0 in /usr/local/lib/python3.11/dist-packages (from uvicorn[standard]>=0.22.0->evidently) (0.34.0)\n",
            "Requirement already satisfied: watchdog>=3.0.0 in /usr/local/lib/python3.11/dist-packages (from evidently) (6.0.0)\n",
            "Requirement already satisfied: typer>=0.3 in /usr/local/lib/python3.11/dist-packages (from evidently) (0.15.1)\n",
            "Requirement already satisfied: rich>=13 in /usr/local/lib/python3.11/dist-packages (from evidently) (13.9.4)\n",
            "Requirement already satisfied: iterative-telemetry>=0.0.5 in /usr/local/lib/python3.11/dist-packages (from evidently) (0.0.10)\n",
            "Requirement already satisfied: dynaconf>=3.2.4 in /usr/local/lib/python3.11/dist-packages (from evidently) (3.2.7)\n",
            "Requirement already satisfied: certifi>=2024.7.4 in /usr/local/lib/python3.11/dist-packages (from evidently) (2025.1.31)\n",
            "Requirement already satisfied: urllib3>=1.26.19 in /usr/local/lib/python3.11/dist-packages (from evidently) (2.3.0)\n",
            "Requirement already satisfied: fsspec>=2024.6.1 in /usr/local/lib/python3.11/dist-packages (from evidently) (2024.10.0)\n",
            "Requirement already satisfied: ujson>=5.4.0 in /usr/local/lib/python3.11/dist-packages (from evidently) (5.10.0)\n",
            "Requirement already satisfied: deprecation>=2.1.0 in /usr/local/lib/python3.11/dist-packages (from evidently) (2.1.0)\n",
            "Requirement already satisfied: uuid6>=2024.7.10 in /usr/local/lib/python3.11/dist-packages (from evidently) (2024.7.10)\n",
            "Requirement already satisfied: cryptography>=43.0.1 in /usr/local/lib/python3.11/dist-packages (from evidently) (43.0.3)\n",
            "Requirement already satisfied: cffi>=1.12 in /usr/local/lib/python3.11/dist-packages (from cryptography>=43.0.1->evidently) (1.17.1)\n",
            "Requirement already satisfied: packaging in /usr/local/lib/python3.11/dist-packages (from deprecation>=2.1.0->evidently) (24.2)\n",
            "Requirement already satisfied: appdirs in /usr/local/lib/python3.11/dist-packages (from iterative-telemetry>=0.0.5->evidently) (1.4.4)\n",
            "Requirement already satisfied: filelock in /usr/local/lib/python3.11/dist-packages (from iterative-telemetry>=0.0.5->evidently) (3.17.0)\n",
            "Requirement already satisfied: distro in /usr/local/lib/python3.11/dist-packages (from iterative-telemetry>=0.0.5->evidently) (1.9.0)\n",
            "Requirement already satisfied: anyio>=3 in /usr/local/lib/python3.11/dist-packages (from litestar>=2.8.3->evidently) (3.7.1)\n",
            "Requirement already satisfied: click in /usr/local/lib/python3.11/dist-packages (from litestar>=2.8.3->evidently) (8.1.8)\n",
            "Requirement already satisfied: httpx>=0.22 in /usr/local/lib/python3.11/dist-packages (from litestar>=2.8.3->evidently) (0.28.1)\n",
            "Requirement already satisfied: litestar-htmx>=0.4.0 in /usr/local/lib/python3.11/dist-packages (from litestar>=2.8.3->evidently) (0.4.1)\n",
            "Requirement already satisfied: msgspec>=0.18.2 in /usr/local/lib/python3.11/dist-packages (from litestar>=2.8.3->evidently) (0.19.0)\n",
            "Requirement already satisfied: multidict>=6.0.2 in /usr/local/lib/python3.11/dist-packages (from litestar>=2.8.3->evidently) (6.1.0)\n",
            "Requirement already satisfied: multipart>=1.2.0 in /usr/local/lib/python3.11/dist-packages (from litestar>=2.8.3->evidently) (1.2.1)\n",
            "Requirement already satisfied: polyfactory>=2.6.3 in /usr/local/lib/python3.11/dist-packages (from litestar>=2.8.3->evidently) (2.19.0)\n",
            "Requirement already satisfied: rich-click in /usr/local/lib/python3.11/dist-packages (from litestar>=2.8.3->evidently) (1.8.5)\n",
            "Requirement already satisfied: typing-extensions in /usr/local/lib/python3.11/dist-packages (from litestar>=2.8.3->evidently) (4.12.2)\n",
            "Requirement already satisfied: joblib in /usr/local/lib/python3.11/dist-packages (from nltk>=3.6.7->evidently) (1.4.2)\n",
            "Requirement already satisfied: regex>=2021.8.3 in /usr/local/lib/python3.11/dist-packages (from nltk>=3.6.7->evidently) (2024.11.6)\n",
            "Requirement already satisfied: tqdm in /usr/local/lib/python3.11/dist-packages (from nltk>=3.6.7->evidently) (4.67.1)\n",
            "Requirement already satisfied: python-dateutil>=2.8.2 in /usr/local/lib/python3.11/dist-packages (from pandas>=1.3.5->pandas[parquet]>=1.3.5->evidently) (2.8.2)\n",
            "Requirement already satisfied: pytz>=2020.1 in /usr/local/lib/python3.11/dist-packages (from pandas>=1.3.5->pandas[parquet]>=1.3.5->evidently) (2025.1)\n",
            "Requirement already satisfied: tzdata>=2022.7 in /usr/local/lib/python3.11/dist-packages (from pandas>=1.3.5->pandas[parquet]>=1.3.5->evidently) (2025.1)\n",
            "Requirement already satisfied: pyarrow>=10.0.1 in /usr/local/lib/python3.11/dist-packages (from pandas[parquet]>=1.3.5->evidently) (17.0.0)\n",
            "Requirement already satisfied: tenacity>=6.2.0 in /usr/local/lib/python3.11/dist-packages (from plotly<6,>=5.10.0->evidently) (9.0.0)\n",
            "Requirement already satisfied: annotated-types>=0.6.0 in /usr/local/lib/python3.11/dist-packages (from pydantic>=1.10.13->evidently) (0.7.0)\n",
            "Requirement already satisfied: pydantic-core==2.27.2 in /usr/local/lib/python3.11/dist-packages (from pydantic>=1.10.13->evidently) (2.27.2)\n",
            "Requirement already satisfied: charset-normalizer<4,>=2 in /usr/local/lib/python3.11/dist-packages (from requests>=2.32.0->evidently) (3.4.1)\n",
            "Requirement already satisfied: idna<4,>=2.5 in /usr/local/lib/python3.11/dist-packages (from requests>=2.32.0->evidently) (3.10)\n",
            "Requirement already satisfied: markdown-it-py>=2.2.0 in /usr/local/lib/python3.11/dist-packages (from rich>=13->evidently) (3.0.0)\n",
            "Requirement already satisfied: pygments<3.0.0,>=2.13.0 in /usr/local/lib/python3.11/dist-packages (from rich>=13->evidently) (2.18.0)\n",
            "Requirement already satisfied: threadpoolctl>=3.1.0 in /usr/local/lib/python3.11/dist-packages (from scikit-learn>=1.0.1->evidently) (3.5.0)\n",
            "Requirement already satisfied: patsy>=0.5.6 in /usr/local/lib/python3.11/dist-packages (from statsmodels>=0.12.2->evidently) (1.0.1)\n",
            "Requirement already satisfied: shellingham>=1.3.0 in /usr/local/lib/python3.11/dist-packages (from typer>=0.3->evidently) (1.5.4)\n",
            "Requirement already satisfied: mypy-extensions>=0.3.0 in /usr/local/lib/python3.11/dist-packages (from typing-inspect>=0.9.0->evidently) (1.0.0)\n",
            "Requirement already satisfied: h11>=0.8 in /usr/local/lib/python3.11/dist-packages (from uvicorn>=0.22.0->uvicorn[standard]>=0.22.0->evidently) (0.14.0)\n",
            "Requirement already satisfied: httptools>=0.6.3 in /usr/local/lib/python3.11/dist-packages (from uvicorn[standard]>=0.22.0->evidently) (0.6.4)\n",
            "Requirement already satisfied: python-dotenv>=0.13 in /usr/local/lib/python3.11/dist-packages (from uvicorn[standard]>=0.22.0->evidently) (1.0.1)\n",
            "Requirement already satisfied: uvloop!=0.15.0,!=0.15.1,>=0.14.0 in /usr/local/lib/python3.11/dist-packages (from uvicorn[standard]>=0.22.0->evidently) (0.21.0)\n",
            "Requirement already satisfied: watchfiles>=0.13 in /usr/local/lib/python3.11/dist-packages (from uvicorn[standard]>=0.22.0->evidently) (1.0.4)\n",
            "Requirement already satisfied: websockets>=10.4 in /usr/local/lib/python3.11/dist-packages (from uvicorn[standard]>=0.22.0->evidently) (14.2)\n",
            "Requirement already satisfied: sniffio>=1.1 in /usr/local/lib/python3.11/dist-packages (from anyio>=3->litestar>=2.8.3->evidently) (1.3.1)\n",
            "Requirement already satisfied: pycparser in /usr/local/lib/python3.11/dist-packages (from cffi>=1.12->cryptography>=43.0.1->evidently) (2.22)\n",
            "Requirement already satisfied: httpcore==1.* in /usr/local/lib/python3.11/dist-packages (from httpx>=0.22->litestar>=2.8.3->evidently) (1.0.7)\n",
            "Requirement already satisfied: mdurl~=0.1 in /usr/local/lib/python3.11/dist-packages (from markdown-it-py>=2.2.0->rich>=13->evidently) (0.1.2)\n",
            "Requirement already satisfied: faker in /usr/local/lib/python3.11/dist-packages (from polyfactory>=2.6.3->litestar>=2.8.3->evidently) (36.1.1)\n",
            "Requirement already satisfied: six>=1.5 in /usr/local/lib/python3.11/dist-packages (from python-dateutil>=2.8.2->pandas>=1.3.5->pandas[parquet]>=1.3.5->evidently) (1.17.0)\n"
          ]
        }
      ]
    },
    {
      "cell_type": "markdown",
      "source": [
        "## Step 1: Load and Prepare the Dataset\n",
        "**Task**: Load the Wine Quality dataset and split it into \"training\" and \"new\" datasets. Simulate drift by modifyign specific features"
      ],
      "metadata": {
        "id": "pgmO9fqnUUju"
      }
    },
    {
      "cell_type": "code",
      "source": [
        "# Load the Wine Quality dataset from OpenML\n",
        "wine_data = fetch_openml(name=\"wine-quality-red\", version=1, as_frame=True)\n",
        "df = wine_data.frame\n",
        "\n",
        "# Simulate drift by splitting the data into \"training\" and \"new\" datasets\n",
        "train_data, new_data = train_test_split(df, test_size=0.5, random_state=42)\n",
        "\n",
        "# Introduce drift in \"new\" data\n",
        "new_data[\"alcohol\"] = new_data[\"alcohol\"] * 1.1\n",
        "new_data[\"pH\"] = new_data[\"pH\"] + np.random.normal(0, 0.05, new_data.shape[0])"
      ],
      "metadata": {
        "id": "TWfGjCM6UTgj"
      },
      "execution_count": null,
      "outputs": []
    },
    {
      "cell_type": "markdown",
      "source": [
        "## Step 2: Detect Drfit with Evidently AI\n",
        "**Task**: Generate a drift report using Evidently AI and save it as an HTML file."
      ],
      "metadata": {
        "id": "rKNdomHlVNzm"
      }
    },
    {
      "cell_type": "code",
      "source": [
        "# Define column mapping for Evidently\n",
        "column_mapping = ColumnMapping()\n",
        "\n",
        "# Create a report with Data Drift Metrics\n",
        "drift_report = Report(metrics=[DataDriftPreset()])\n",
        "drift_report.run(reference_data=train_data, current_data=new_data, column_mapping=column_mapping)\n",
        "\n",
        "# Save and display the drift report\n",
        "drift_report.save_html(\"drift_report.html\")\n",
        "print(\"Drift report saved as 'drift_report.html'\")"
      ],
      "metadata": {
        "id": "L3w6ZDk5VOJX",
        "outputId": "b03c34cc-800e-40f5-ca0f-5065d675a72d",
        "colab": {
          "base_uri": "https://localhost:8080/"
        }
      },
      "execution_count": null,
      "outputs": [
        {
          "output_type": "stream",
          "name": "stdout",
          "text": [
            "Drift report saved as 'drift_report.html'\n"
          ]
        }
      ]
    },
    {
      "cell_type": "markdown",
      "source": [
        "**Instructions**:\n",
        "1. After running the code, download the `drift_report.html` file from your Colab environment\n",
        "2. Open it in your browser to explore detailed metrics and visualizations, then answer the questions below\n",
        "\n",
        "**Questions**:\n",
        "1. What percentage of columns are identified as drifted?\n",
        "2. What specific columns are flagged as drifted?\n",
        "\n"
      ],
      "metadata": {
        "id": "NwEjM7XuWg-g"
      }
    },
    {
      "cell_type": "markdown",
      "source": [
        "## Step 3: Quantify Drift with Statistical Tests\n",
        "**Task**: Perform drift metrics using Kolmogorov-Smirnov tests"
      ],
      "metadata": {
        "id": "8gOGZMhpWhEh"
      }
    },
    {
      "cell_type": "code",
      "source": [
        "# Calculate drift metrics using Kolmogorov-Smirnov tests\n",
        "print(\"Kolmogorov-Smirnov Test Results:\")\n",
        "for column in train_data.columns:\n",
        "  stat, p_value = ks_2samp(train_data[column], new_data[column])\n",
        "  print(f\"Feature: {column} | KS Statistic: {stat:.3f}, P-value: {p_value:.3f}\")"
      ],
      "metadata": {
        "id": "4hWG8RnhWegf",
        "colab": {
          "base_uri": "https://localhost:8080/"
        },
        "outputId": "6f5863e0-7148-4c6d-f8f8-887de7bc37ad"
      },
      "execution_count": null,
      "outputs": [
        {
          "output_type": "stream",
          "name": "stdout",
          "text": [
            "Kolmogorov-Smirnov Test Results:\n",
            "Feature: fixed_acidity | KS Statistic: 0.061, P-value: 0.095\n",
            "Feature: volatile_acidity | KS Statistic: 0.040, P-value: 0.528\n",
            "Feature: citric_acid | KS Statistic: 0.036, P-value: 0.646\n",
            "Feature: residual_sugar | KS Statistic: 0.032, P-value: 0.806\n",
            "Feature: chlorides | KS Statistic: 0.027, P-value: 0.927\n",
            "Feature: free_sulfur_dioxide | KS Statistic: 0.032, P-value: 0.794\n",
            "Feature: total_sulfur_dioxide | KS Statistic: 0.015, P-value: 1.000\n",
            "Feature: density | KS Statistic: 0.045, P-value: 0.377\n",
            "Feature: pH | KS Statistic: 0.075, P-value: 0.021\n",
            "Feature: sulphates | KS Statistic: 0.025, P-value: 0.963\n",
            "Feature: alcohol | KS Statistic: 0.439, P-value: 0.000\n",
            "Feature: class | KS Statistic: 0.034, P-value: 0.710\n"
          ]
        }
      ]
    },
    {
      "cell_type": "markdown",
      "source": [
        "**Instructions**:\n",
        "1. Analyze the KS Statistic and p-value for each value\n",
        "  - **High KS Statistic and low p-value (< 0.05)**: Significant drift.\n",
        "  - **Low KS Statistic and high p-value (> 0.05)**: No significant drift.\n",
        "  - **Moderate KS Statistic**: Small but noteworthy changes\n",
        "\n",
        "**Questions**:\n",
        "1. Which features show significant drift based on their p-values (p-value < 0.05)?\n",
        "2. What might be the implications of drift in a highly significant feature like \"alcohol\" for a model predicting wine quality?"
      ],
      "metadata": {
        "id": "CJGV9Wvja90v"
      }
    }
  ]
}